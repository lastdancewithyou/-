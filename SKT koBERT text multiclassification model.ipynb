{
 "cells": [
  {
   "cell_type": "markdown",
   "metadata": {
    "id": "pBCz7IraXTRF"
   },
   "source": [
    "# 환경 세팅 및 라이브러리 불러오기"
   ]
  },
  {
   "cell_type": "markdown",
   "metadata": {},
   "source": [
    "## 0. SKT 제공 Kobert pre-trained 모델 불러오기"
   ]
  },
  {
   "cell_type": "code",
   "execution_count": 1,
   "metadata": {},
   "outputs": [
    {
     "name": "stdout",
     "output_type": "stream",
     "text": [
      "Collecting kobert_tokenizer"
     ]
    },
    {
     "name": "stderr",
     "output_type": "stream",
     "text": [
      "  Running command git clone --filter=blob:none --quiet https://github.com/SKTBrain/KoBERT.git 'C:\\Users\\user\\AppData\\Local\\Temp\\pip-install-ijtdlb5m\\kobert-tokenizer_bc907faac43f4fc3a1edaf749f1b5b9d'\n"
     ]
    },
    {
     "name": "stdout",
     "output_type": "stream",
     "text": [
      "\n",
      "  Cloning https://github.com/SKTBrain/KoBERT.git (to revision master) to c:\\users\\user\\appdata\\local\\temp\\pip-install-ijtdlb5m\\kobert-tokenizer_bc907faac43f4fc3a1edaf749f1b5b9d\n",
      "  Resolved https://github.com/SKTBrain/KoBERT.git to commit 47a69af87928fc24e20f571fe10c3cc9dd9af9a3\n",
      "  Preparing metadata (setup.py): started\n",
      "  Preparing metadata (setup.py): finished with status 'done'\n"
     ]
    }
   ],
   "source": [
    "!pip install \"git+https://github.com/SKTBrain/KoBERT.git@master#egg=kobert_tokenizer&subdirectory=kobert_hf\""
   ]
  },
  {
   "cell_type": "markdown",
   "metadata": {},
   "source": [
    "## 1. 라이브러리 불러오기\n",
    "***라이브러리 간 dependency conflict 주의***\n",
    "- python==3.7\n",
    "- mxnet==1.7.0.post2\n",
    "- gluonnlp==0.10.0\n",
    "- numpy==1.6.6\n",
    "- pandas==1.0.0\n",
    "- transformers==4.1.1\n",
    "- scikit-learn = 3.1.2\n",
    "- matplotlib==3.4.2\n",
    "- torch는 로컬 CPU 활용(pip3 install torch torchvision torchaudio) / 추후 cuda 활용 GPU 전환"
   ]
  },
  {
   "cell_type": "code",
   "execution_count": 5,
   "metadata": {},
   "outputs": [],
   "source": [
    "import warnings\n",
    "warnings.filterwarnings(\"ignore\")\n",
    "import pandas as pd\n",
    "import torch\n",
    "from torch import nn\n",
    "import torch.nn.functional as F\n",
    "import torch.optim as optim\n",
    "from torch.utils.data import Dataset, DataLoader\n",
    "import numpy as np\n",
    "from tqdm import tqdm\n",
    "import sentencepiece\n",
    "import gluonnlp as nlp\n",
    "import matplotlib.pyplot as plt\n",
    "from sklearn.model_selection import train_test_split\n",
    "import os"
   ]
  },
  {
   "cell_type": "markdown",
   "metadata": {},
   "source": [
    "## 1-1. Hugging Face에서 모델 불러오기"
   ]
  },
  {
   "cell_type": "code",
   "execution_count": 6,
   "metadata": {
    "id": "Lz3BTxW5Xaha"
   },
   "outputs": [],
   "source": [
    "# Hugging Face를 통한 모델 및 토크나이저 Import\n",
    "from kobert_tokenizer import KoBERTTokenizer\n",
    "from transformers import BertModel\n",
    "\n",
    "from transformers import AdamW\n",
    "from transformers.optimization import get_cosine_schedule_with_warmup"
   ]
  },
  {
   "cell_type": "code",
   "execution_count": 8,
   "metadata": {},
   "outputs": [],
   "source": [
    "tokenizer = KoBERTTokenizer.from_pretrained('skt/kobert-base-v1', last_hidden_states=True)\n",
    "bertmodel = BertModel.from_pretrained('skt/kobert-base-v1', return_dict=False)\n",
    "vocab = nlp.vocab.BERTVocab.from_sentencepiece(tokenizer.vocab_file, padding_token='[PAD]')"
   ]
  },
  {
   "cell_type": "code",
   "execution_count": 9,
   "metadata": {},
   "outputs": [
    {
     "data": {
      "text/plain": [
       "{'input_ids': tensor([[   2,  709,  415,  392,  405,  459,  394, 5130, 7789,    3]]), 'token_type_ids': tensor([[0, 0, 0, 0, 0, 0, 0, 0, 0, 0]]), 'attention_mask': tensor([[1, 1, 1, 1, 1, 1, 1, 1, 1, 1]])}"
      ]
     },
     "execution_count": 9,
     "metadata": {},
     "output_type": "execute_result"
    }
   ],
   "source": [
    "# tokenizer test\n",
    "inputs = tokenizer(\"tokenizer 확인하기\", return_tensors=\"pt\")\n",
    "inputs"
   ]
  },
  {
   "cell_type": "markdown",
   "metadata": {
    "id": "hHex-KnIX_GS"
   },
   "source": [
    "# 2. 데이터 전처리"
   ]
  },
  {
   "cell_type": "code",
   "execution_count": 10,
   "metadata": {
    "colab": {
     "base_uri": "https://localhost:8080/",
     "height": 339
    },
    "id": "cUxCmVz13J2L",
    "outputId": "40f661fb-58bf-4be7-ed30-d631f1c20243"
   },
   "outputs": [
    {
     "data": {
      "text/html": [
       "<div>\n",
       "<style scoped>\n",
       "    .dataframe tbody tr th:only-of-type {\n",
       "        vertical-align: middle;\n",
       "    }\n",
       "\n",
       "    .dataframe tbody tr th {\n",
       "        vertical-align: top;\n",
       "    }\n",
       "\n",
       "    .dataframe thead th {\n",
       "        text-align: right;\n",
       "    }\n",
       "</style>\n",
       "<table border=\"1\" class=\"dataframe\">\n",
       "  <thead>\n",
       "    <tr style=\"text-align: right;\">\n",
       "      <th></th>\n",
       "      <th>IDX</th>\n",
       "      <th>발화자</th>\n",
       "      <th>발화문</th>\n",
       "      <th>카테고리</th>\n",
       "      <th>QA번호</th>\n",
       "      <th>QA여부</th>\n",
       "      <th>감성</th>\n",
       "      <th>인텐트 (대)</th>\n",
       "      <th>인텐트 (중)</th>\n",
       "      <th>인텐트 (소)</th>\n",
       "      <th>...</th>\n",
       "      <th>수량(수치)</th>\n",
       "      <th>크기</th>\n",
       "      <th>장소</th>\n",
       "      <th>조직</th>\n",
       "      <th>사람</th>\n",
       "      <th>시간</th>\n",
       "      <th>날짜</th>\n",
       "      <th>상품명</th>\n",
       "      <th>상담번호</th>\n",
       "      <th>상담내순번</th>\n",
       "    </tr>\n",
       "  </thead>\n",
       "  <tbody>\n",
       "    <tr>\n",
       "      <th>0</th>\n",
       "      <td>1</td>\n",
       "      <td>c</td>\n",
       "      <td>컵밥 2만원 이상을 사면 무료 배송으로 아는데 여기가 죽도 추가로 몇 개 더 주문해...</td>\n",
       "      <td>식품</td>\n",
       "      <td>46175</td>\n",
       "      <td>q</td>\n",
       "      <td>m</td>\n",
       "      <td>배송</td>\n",
       "      <td>비용</td>\n",
       "      <td>질문</td>\n",
       "      <td>...</td>\n",
       "      <td>NaN</td>\n",
       "      <td>NaN</td>\n",
       "      <td>NaN</td>\n",
       "      <td>NaN</td>\n",
       "      <td>NaN</td>\n",
       "      <td>NaN</td>\n",
       "      <td>NaN</td>\n",
       "      <td>컵밥|죽</td>\n",
       "      <td>46175</td>\n",
       "      <td>1</td>\n",
       "    </tr>\n",
       "    <tr>\n",
       "      <th>1</th>\n",
       "      <td>2</td>\n",
       "      <td>s</td>\n",
       "      <td>박스에 합포가 되지 않을 수도 있어 정확한 답변 드리지 못하는 점 양해 부탁드립니다.</td>\n",
       "      <td>식품</td>\n",
       "      <td>46175</td>\n",
       "      <td>a</td>\n",
       "      <td>m</td>\n",
       "      <td>배송</td>\n",
       "      <td>비용</td>\n",
       "      <td>질문</td>\n",
       "      <td>...</td>\n",
       "      <td>NaN</td>\n",
       "      <td>NaN</td>\n",
       "      <td>NaN</td>\n",
       "      <td>NaN</td>\n",
       "      <td>NaN</td>\n",
       "      <td>NaN</td>\n",
       "      <td>NaN</td>\n",
       "      <td>NaN</td>\n",
       "      <td>46175</td>\n",
       "      <td>2</td>\n",
       "    </tr>\n",
       "    <tr>\n",
       "      <th>2</th>\n",
       "      <td>3</td>\n",
       "      <td>c</td>\n",
       "      <td>해마로 기준 6개 이상이고 볶음밥 기준으로는 50개 이상인데 해마로 케이준 1봉과 ...</td>\n",
       "      <td>식품</td>\n",
       "      <td>40543</td>\n",
       "      <td>q</td>\n",
       "      <td>m</td>\n",
       "      <td>배송</td>\n",
       "      <td>비용</td>\n",
       "      <td>질문</td>\n",
       "      <td>...</td>\n",
       "      <td>6.0</td>\n",
       "      <td>NaN</td>\n",
       "      <td>NaN</td>\n",
       "      <td>NaN</td>\n",
       "      <td>NaN</td>\n",
       "      <td>NaN</td>\n",
       "      <td>NaN</td>\n",
       "      <td>해마로|볶음밥</td>\n",
       "      <td>40543</td>\n",
       "      <td>1</td>\n",
       "    </tr>\n",
       "    <tr>\n",
       "      <th>3</th>\n",
       "      <td>4</td>\n",
       "      <td>s</td>\n",
       "      <td>일단 두 제품이 같이 담기면 최소 수량 부과인 6개 이상은 시스템 상 자동부과가 됩니다.</td>\n",
       "      <td>식품</td>\n",
       "      <td>40543</td>\n",
       "      <td>a</td>\n",
       "      <td>m</td>\n",
       "      <td>배송</td>\n",
       "      <td>비용</td>\n",
       "      <td>질문</td>\n",
       "      <td>...</td>\n",
       "      <td>6.0</td>\n",
       "      <td>NaN</td>\n",
       "      <td>NaN</td>\n",
       "      <td>NaN</td>\n",
       "      <td>NaN</td>\n",
       "      <td>NaN</td>\n",
       "      <td>NaN</td>\n",
       "      <td>NaN</td>\n",
       "      <td>40543</td>\n",
       "      <td>2</td>\n",
       "    </tr>\n",
       "    <tr>\n",
       "      <th>4</th>\n",
       "      <td>5</td>\n",
       "      <td>c</td>\n",
       "      <td>마트 원데이는 무료 배송이라고 되있는데 왜 결제를 하려고 하니까 배송비 3000원이...</td>\n",
       "      <td>식품</td>\n",
       "      <td>15426</td>\n",
       "      <td>q</td>\n",
       "      <td>m</td>\n",
       "      <td>배송</td>\n",
       "      <td>비용</td>\n",
       "      <td>질문</td>\n",
       "      <td>...</td>\n",
       "      <td>NaN</td>\n",
       "      <td>NaN</td>\n",
       "      <td>NaN</td>\n",
       "      <td>NaN</td>\n",
       "      <td>NaN</td>\n",
       "      <td>NaN</td>\n",
       "      <td>NaN</td>\n",
       "      <td>NaN</td>\n",
       "      <td>15426</td>\n",
       "      <td>1</td>\n",
       "    </tr>\n",
       "  </tbody>\n",
       "</table>\n",
       "<p>5 rows × 23 columns</p>\n",
       "</div>"
      ],
      "text/plain": [
       "   IDX 발화자                                                발화문 카테고리   QA번호  \\\n",
       "0    1   c  컵밥 2만원 이상을 사면 무료 배송으로 아는데 여기가 죽도 추가로 몇 개 더 주문해...   식품  46175   \n",
       "1    2   s    박스에 합포가 되지 않을 수도 있어 정확한 답변 드리지 못하는 점 양해 부탁드립니다.   식품  46175   \n",
       "2    3   c  해마로 기준 6개 이상이고 볶음밥 기준으로는 50개 이상인데 해마로 케이준 1봉과 ...   식품  40543   \n",
       "3    4   s  일단 두 제품이 같이 담기면 최소 수량 부과인 6개 이상은 시스템 상 자동부과가 됩니다.   식품  40543   \n",
       "4    5   c  마트 원데이는 무료 배송이라고 되있는데 왜 결제를 하려고 하니까 배송비 3000원이...   식품  15426   \n",
       "\n",
       "  QA여부 감성 인텐트 (대)  인텐트 (중) 인텐트 (소)  ... 수량(수치)   크기   장소   조직   사람  시간   날짜  \\\n",
       "0    q  m      배송       비용      질문  ...    NaN  NaN  NaN  NaN  NaN NaN  NaN   \n",
       "1    a  m      배송       비용      질문  ...    NaN  NaN  NaN  NaN  NaN NaN  NaN   \n",
       "2    q  m      배송       비용      질문  ...    6.0  NaN  NaN  NaN  NaN NaN  NaN   \n",
       "3    a  m      배송       비용      질문  ...    6.0  NaN  NaN  NaN  NaN NaN  NaN   \n",
       "4    q  m      배송       비용      질문  ...    NaN  NaN  NaN  NaN  NaN NaN  NaN   \n",
       "\n",
       "       상품명   상담번호 상담내순번  \n",
       "0     컵밥|죽  46175     1  \n",
       "1      NaN  46175     2  \n",
       "2  해마로|볶음밥  40543     1  \n",
       "3      NaN  40543     2  \n",
       "4      NaN  15426     1  \n",
       "\n",
       "[5 rows x 23 columns]"
      ]
     },
     "execution_count": 10,
     "metadata": {},
     "output_type": "execute_result"
    }
   ],
   "source": [
    "total_data = pd.read_csv(\"D:\\kobert\\data\\콜센터(식품) 메인 분석용 데이터.csv\", encoding='utf-8')\n",
    "total_data.head()"
   ]
  },
  {
   "cell_type": "code",
   "execution_count": 11,
   "metadata": {
    "colab": {
     "base_uri": "https://localhost:8080/"
    },
    "id": "YRQkgA7p4Ha0",
    "outputId": "f37e65a8-e421-494b-f20a-9d1f62aacc2d"
   },
   "outputs": [
    {
     "data": {
      "text/plain": [
       "Index(['IDX', '발화자', '발화문', '카테고리', 'QA번호', 'QA여부', '감성', '인텐트 (대)',\n",
       "       ' 인텐트 (중)', '인텐트 (소)', '가격', '가격(수치)', '수량', '수량(수치)', '크기', '장소', '조직',\n",
       "       '사람', '시간', '날짜', '상품명', '상담번호', '상담내순번'],\n",
       "      dtype='object')"
      ]
     },
     "execution_count": 11,
     "metadata": {},
     "output_type": "execute_result"
    }
   ],
   "source": [
    "total_data.columns"
   ]
  },
  {
   "cell_type": "code",
   "execution_count": 12,
   "metadata": {
    "id": "siAGtIIo4g5U"
   },
   "outputs": [],
   "source": [
    "# 컬럼명 변경\n",
    "total_data.rename(columns={\"인텐트 (대)\": \"대분류\"}, inplace=True)"
   ]
  },
  {
   "cell_type": "code",
   "execution_count": 13,
   "metadata": {
    "colab": {
     "base_uri": "https://localhost:8080/",
     "height": 339
    },
    "id": "Fheq0psoFK6P",
    "outputId": "9896ba81-b965-4cb9-ed86-6bf81865b6f1"
   },
   "outputs": [
    {
     "data": {
      "text/html": [
       "<div>\n",
       "<style scoped>\n",
       "    .dataframe tbody tr th:only-of-type {\n",
       "        vertical-align: middle;\n",
       "    }\n",
       "\n",
       "    .dataframe tbody tr th {\n",
       "        vertical-align: top;\n",
       "    }\n",
       "\n",
       "    .dataframe thead th {\n",
       "        text-align: right;\n",
       "    }\n",
       "</style>\n",
       "<table border=\"1\" class=\"dataframe\">\n",
       "  <thead>\n",
       "    <tr style=\"text-align: right;\">\n",
       "      <th></th>\n",
       "      <th>IDX</th>\n",
       "      <th>발화자</th>\n",
       "      <th>발화문</th>\n",
       "      <th>카테고리</th>\n",
       "      <th>QA번호</th>\n",
       "      <th>QA여부</th>\n",
       "      <th>감성</th>\n",
       "      <th>대분류</th>\n",
       "      <th>인텐트 (중)</th>\n",
       "      <th>인텐트 (소)</th>\n",
       "      <th>...</th>\n",
       "      <th>수량(수치)</th>\n",
       "      <th>크기</th>\n",
       "      <th>장소</th>\n",
       "      <th>조직</th>\n",
       "      <th>사람</th>\n",
       "      <th>시간</th>\n",
       "      <th>날짜</th>\n",
       "      <th>상품명</th>\n",
       "      <th>상담번호</th>\n",
       "      <th>상담내순번</th>\n",
       "    </tr>\n",
       "  </thead>\n",
       "  <tbody>\n",
       "    <tr>\n",
       "      <th>0</th>\n",
       "      <td>1</td>\n",
       "      <td>c</td>\n",
       "      <td>컵밥 2만원 이상을 사면 무료 배송으로 아는데 여기가 죽도 추가로 몇 개 더 주문해...</td>\n",
       "      <td>식품</td>\n",
       "      <td>46175</td>\n",
       "      <td>q</td>\n",
       "      <td>m</td>\n",
       "      <td>배송</td>\n",
       "      <td>비용</td>\n",
       "      <td>질문</td>\n",
       "      <td>...</td>\n",
       "      <td>NaN</td>\n",
       "      <td>NaN</td>\n",
       "      <td>NaN</td>\n",
       "      <td>NaN</td>\n",
       "      <td>NaN</td>\n",
       "      <td>NaN</td>\n",
       "      <td>NaN</td>\n",
       "      <td>컵밥|죽</td>\n",
       "      <td>46175</td>\n",
       "      <td>1</td>\n",
       "    </tr>\n",
       "    <tr>\n",
       "      <th>2</th>\n",
       "      <td>3</td>\n",
       "      <td>c</td>\n",
       "      <td>해마로 기준 6개 이상이고 볶음밥 기준으로는 50개 이상인데 해마로 케이준 1봉과 ...</td>\n",
       "      <td>식품</td>\n",
       "      <td>40543</td>\n",
       "      <td>q</td>\n",
       "      <td>m</td>\n",
       "      <td>배송</td>\n",
       "      <td>비용</td>\n",
       "      <td>질문</td>\n",
       "      <td>...</td>\n",
       "      <td>6.0</td>\n",
       "      <td>NaN</td>\n",
       "      <td>NaN</td>\n",
       "      <td>NaN</td>\n",
       "      <td>NaN</td>\n",
       "      <td>NaN</td>\n",
       "      <td>NaN</td>\n",
       "      <td>해마로|볶음밥</td>\n",
       "      <td>40543</td>\n",
       "      <td>1</td>\n",
       "    </tr>\n",
       "    <tr>\n",
       "      <th>4</th>\n",
       "      <td>5</td>\n",
       "      <td>c</td>\n",
       "      <td>마트 원데이는 무료 배송이라고 되있는데 왜 결제를 하려고 하니까 배송비 3000원이...</td>\n",
       "      <td>식품</td>\n",
       "      <td>15426</td>\n",
       "      <td>q</td>\n",
       "      <td>m</td>\n",
       "      <td>배송</td>\n",
       "      <td>비용</td>\n",
       "      <td>질문</td>\n",
       "      <td>...</td>\n",
       "      <td>NaN</td>\n",
       "      <td>NaN</td>\n",
       "      <td>NaN</td>\n",
       "      <td>NaN</td>\n",
       "      <td>NaN</td>\n",
       "      <td>NaN</td>\n",
       "      <td>NaN</td>\n",
       "      <td>NaN</td>\n",
       "      <td>15426</td>\n",
       "      <td>1</td>\n",
       "    </tr>\n",
       "    <tr>\n",
       "      <th>6</th>\n",
       "      <td>7</td>\n",
       "      <td>c</td>\n",
       "      <td>제주도 추가 배송료 잇나요?</td>\n",
       "      <td>식품</td>\n",
       "      <td>226944</td>\n",
       "      <td>q</td>\n",
       "      <td>m</td>\n",
       "      <td>배송</td>\n",
       "      <td>비용</td>\n",
       "      <td>질문</td>\n",
       "      <td>...</td>\n",
       "      <td>NaN</td>\n",
       "      <td>NaN</td>\n",
       "      <td>제주도</td>\n",
       "      <td>NaN</td>\n",
       "      <td>NaN</td>\n",
       "      <td>NaN</td>\n",
       "      <td>NaN</td>\n",
       "      <td>NaN</td>\n",
       "      <td>226944</td>\n",
       "      <td>1</td>\n",
       "    </tr>\n",
       "    <tr>\n",
       "      <th>8</th>\n",
       "      <td>9</td>\n",
       "      <td>c</td>\n",
       "      <td>물건이 오지도 않았는데 취소하게 되면 3천원이 빠지더라구 요 반품 택배사원이 오는 ...</td>\n",
       "      <td>식품</td>\n",
       "      <td>229560</td>\n",
       "      <td>q</td>\n",
       "      <td>n</td>\n",
       "      <td>배송</td>\n",
       "      <td>비용</td>\n",
       "      <td>질문</td>\n",
       "      <td>...</td>\n",
       "      <td>NaN</td>\n",
       "      <td>NaN</td>\n",
       "      <td>NaN</td>\n",
       "      <td>NaN</td>\n",
       "      <td>NaN</td>\n",
       "      <td>NaN</td>\n",
       "      <td>NaN</td>\n",
       "      <td>NaN</td>\n",
       "      <td>229560</td>\n",
       "      <td>1</td>\n",
       "    </tr>\n",
       "  </tbody>\n",
       "</table>\n",
       "<p>5 rows × 23 columns</p>\n",
       "</div>"
      ],
      "text/plain": [
       "   IDX 발화자                                                발화문 카테고리    QA번호  \\\n",
       "0    1   c  컵밥 2만원 이상을 사면 무료 배송으로 아는데 여기가 죽도 추가로 몇 개 더 주문해...   식품   46175   \n",
       "2    3   c  해마로 기준 6개 이상이고 볶음밥 기준으로는 50개 이상인데 해마로 케이준 1봉과 ...   식품   40543   \n",
       "4    5   c  마트 원데이는 무료 배송이라고 되있는데 왜 결제를 하려고 하니까 배송비 3000원이...   식품   15426   \n",
       "6    7   c                                    제주도 추가 배송료 잇나요?   식품  226944   \n",
       "8    9   c  물건이 오지도 않았는데 취소하게 되면 3천원이 빠지더라구 요 반품 택배사원이 오는 ...   식품  229560   \n",
       "\n",
       "  QA여부 감성 대분류  인텐트 (중) 인텐트 (소)  ... 수량(수치)   크기   장소   조직   사람  시간   날짜  \\\n",
       "0    q  m  배송       비용      질문  ...    NaN  NaN  NaN  NaN  NaN NaN  NaN   \n",
       "2    q  m  배송       비용      질문  ...    6.0  NaN  NaN  NaN  NaN NaN  NaN   \n",
       "4    q  m  배송       비용      질문  ...    NaN  NaN  NaN  NaN  NaN NaN  NaN   \n",
       "6    q  m  배송       비용      질문  ...    NaN  NaN  제주도  NaN  NaN NaN  NaN   \n",
       "8    q  n  배송       비용      질문  ...    NaN  NaN  NaN  NaN  NaN NaN  NaN   \n",
       "\n",
       "       상품명    상담번호 상담내순번  \n",
       "0     컵밥|죽   46175     1  \n",
       "2  해마로|볶음밥   40543     1  \n",
       "4      NaN   15426     1  \n",
       "6      NaN  226944     1  \n",
       "8      NaN  229560     1  \n",
       "\n",
       "[5 rows x 23 columns]"
      ]
     },
     "execution_count": 13,
     "metadata": {},
     "output_type": "execute_result"
    }
   ],
   "source": [
    "# question만 추출\n",
    "question=total_data[total_data[\"QA여부\"]==\"q\"]\n",
    "question.head()"
   ]
  },
  {
   "cell_type": "code",
   "execution_count": 14,
   "metadata": {
    "colab": {
     "base_uri": "https://localhost:8080/",
     "height": 206
    },
    "id": "ltKQGpvV3Jvi",
    "outputId": "d1dcbf21-d76c-40a0-a667-1e1a8eaa5906"
   },
   "outputs": [
    {
     "data": {
      "text/html": [
       "<div>\n",
       "<style scoped>\n",
       "    .dataframe tbody tr th:only-of-type {\n",
       "        vertical-align: middle;\n",
       "    }\n",
       "\n",
       "    .dataframe tbody tr th {\n",
       "        vertical-align: top;\n",
       "    }\n",
       "\n",
       "    .dataframe thead th {\n",
       "        text-align: right;\n",
       "    }\n",
       "</style>\n",
       "<table border=\"1\" class=\"dataframe\">\n",
       "  <thead>\n",
       "    <tr style=\"text-align: right;\">\n",
       "      <th></th>\n",
       "      <th>발화문</th>\n",
       "      <th>대분류</th>\n",
       "    </tr>\n",
       "  </thead>\n",
       "  <tbody>\n",
       "    <tr>\n",
       "      <th>0</th>\n",
       "      <td>컵밥 2만원 이상을 사면 무료 배송으로 아는데 여기가 죽도 추가로 몇 개 더 주문해...</td>\n",
       "      <td>배송</td>\n",
       "    </tr>\n",
       "    <tr>\n",
       "      <th>2</th>\n",
       "      <td>해마로 기준 6개 이상이고 볶음밥 기준으로는 50개 이상인데 해마로 케이준 1봉과 ...</td>\n",
       "      <td>배송</td>\n",
       "    </tr>\n",
       "    <tr>\n",
       "      <th>4</th>\n",
       "      <td>마트 원데이는 무료 배송이라고 되있는데 왜 결제를 하려고 하니까 배송비 3000원이...</td>\n",
       "      <td>배송</td>\n",
       "    </tr>\n",
       "    <tr>\n",
       "      <th>6</th>\n",
       "      <td>제주도 추가 배송료 잇나요?</td>\n",
       "      <td>배송</td>\n",
       "    </tr>\n",
       "    <tr>\n",
       "      <th>8</th>\n",
       "      <td>물건이 오지도 않았는데 취소하게 되면 3천원이 빠지더라구 요 반품 택배사원이 오는 ...</td>\n",
       "      <td>배송</td>\n",
       "    </tr>\n",
       "  </tbody>\n",
       "</table>\n",
       "</div>"
      ],
      "text/plain": [
       "                                                 발화문 대분류\n",
       "0  컵밥 2만원 이상을 사면 무료 배송으로 아는데 여기가 죽도 추가로 몇 개 더 주문해...  배송\n",
       "2  해마로 기준 6개 이상이고 볶음밥 기준으로는 50개 이상인데 해마로 케이준 1봉과 ...  배송\n",
       "4  마트 원데이는 무료 배송이라고 되있는데 왜 결제를 하려고 하니까 배송비 3000원이...  배송\n",
       "6                                    제주도 추가 배송료 잇나요?  배송\n",
       "8  물건이 오지도 않았는데 취소하게 되면 3천원이 빠지더라구 요 반품 택배사원이 오는 ...  배송"
      ]
     },
     "execution_count": 14,
     "metadata": {},
     "output_type": "execute_result"
    }
   ],
   "source": [
    "# 필요 컬럼 추출(질문만 추출하기)\n",
    "data = question[[\"발화문\", \"대분류\"]]\n",
    "data.head()"
   ]
  },
  {
   "cell_type": "code",
   "execution_count": 15,
   "metadata": {
    "colab": {
     "base_uri": "https://localhost:8080/"
    },
    "id": "hwhIURTb4vB-",
    "outputId": "4247529e-fe31-4cec-9adc-d1c8b2cff0cf"
   },
   "outputs": [
    {
     "data": {
      "text/plain": [
       "제품          103929\n",
       "배송           92034\n",
       "행사            7192\n",
       "포장            4352\n",
       "결제            3961\n",
       "교환|반품|환불      3552\n",
       "웹사이트          1040\n",
       "AS             952\n",
       "멤버십            144\n",
       "Name: 대분류, dtype: int64"
      ]
     },
     "execution_count": 15,
     "metadata": {},
     "output_type": "execute_result"
    }
   ],
   "source": [
    "data[\"대분류\"].value_counts()"
   ]
  },
  {
   "cell_type": "code",
   "execution_count": 16,
   "metadata": {
    "colab": {
     "base_uri": "https://localhost:8080/"
    },
    "id": "ibMO7zVZ8kaY",
    "outputId": "dcc6845d-7401-4684-dbce-0612026c29eb"
   },
   "outputs": [
    {
     "data": {
      "text/plain": [
       "제품    103929\n",
       "배송     92034\n",
       "행사      7192\n",
       "기타      5688\n",
       "포장      4352\n",
       "결제      3961\n",
       "Name: 대분류, dtype: int64"
      ]
     },
     "execution_count": 16,
     "metadata": {},
     "output_type": "execute_result"
    }
   ],
   "source": [
    "# 기타 열 만들기(교환|반품|환불부터 웹사이트까지)\n",
    "df = data.copy()\n",
    "df.loc[df['대분류'].isin(['교환|반품|환불', 'AS', '멤버십', '웹사이트']), '대분류'] = '기타'\n",
    "df[\"대분류\"].value_counts()"
   ]
  },
  {
   "cell_type": "code",
   "execution_count": 17,
   "metadata": {
    "colab": {
     "base_uri": "https://localhost:8080/",
     "height": 206
    },
    "id": "PeHvSILZWqJT",
    "outputId": "d7269eb9-43ce-46af-ed47-6f483226bdff"
   },
   "outputs": [
    {
     "data": {
      "text/html": [
       "<div>\n",
       "<style scoped>\n",
       "    .dataframe tbody tr th:only-of-type {\n",
       "        vertical-align: middle;\n",
       "    }\n",
       "\n",
       "    .dataframe tbody tr th {\n",
       "        vertical-align: top;\n",
       "    }\n",
       "\n",
       "    .dataframe thead th {\n",
       "        text-align: right;\n",
       "    }\n",
       "</style>\n",
       "<table border=\"1\" class=\"dataframe\">\n",
       "  <thead>\n",
       "    <tr style=\"text-align: right;\">\n",
       "      <th></th>\n",
       "      <th>발화문</th>\n",
       "      <th>대분류</th>\n",
       "    </tr>\n",
       "  </thead>\n",
       "  <tbody>\n",
       "    <tr>\n",
       "      <th>0</th>\n",
       "      <td>컵밥 2만원 이상을 사면 무료 배송으로 아는데 여기가 죽도 추가로 몇 개 더 주문해...</td>\n",
       "      <td>0</td>\n",
       "    </tr>\n",
       "    <tr>\n",
       "      <th>2</th>\n",
       "      <td>해마로 기준 6개 이상이고 볶음밥 기준으로는 50개 이상인데 해마로 케이준 1봉과 ...</td>\n",
       "      <td>0</td>\n",
       "    </tr>\n",
       "    <tr>\n",
       "      <th>4</th>\n",
       "      <td>마트 원데이는 무료 배송이라고 되있는데 왜 결제를 하려고 하니까 배송비 3000원이...</td>\n",
       "      <td>0</td>\n",
       "    </tr>\n",
       "    <tr>\n",
       "      <th>6</th>\n",
       "      <td>제주도 추가 배송료 잇나요?</td>\n",
       "      <td>0</td>\n",
       "    </tr>\n",
       "    <tr>\n",
       "      <th>8</th>\n",
       "      <td>물건이 오지도 않았는데 취소하게 되면 3천원이 빠지더라구 요 반품 택배사원이 오는 ...</td>\n",
       "      <td>0</td>\n",
       "    </tr>\n",
       "  </tbody>\n",
       "</table>\n",
       "</div>"
      ],
      "text/plain": [
       "                                                 발화문  대분류\n",
       "0  컵밥 2만원 이상을 사면 무료 배송으로 아는데 여기가 죽도 추가로 몇 개 더 주문해...    0\n",
       "2  해마로 기준 6개 이상이고 볶음밥 기준으로는 50개 이상인데 해마로 케이준 1봉과 ...    0\n",
       "4  마트 원데이는 무료 배송이라고 되있는데 왜 결제를 하려고 하니까 배송비 3000원이...    0\n",
       "6                                    제주도 추가 배송료 잇나요?    0\n",
       "8  물건이 오지도 않았는데 취소하게 되면 3천원이 빠지더라구 요 반품 택배사원이 오는 ...    0"
      ]
     },
     "execution_count": 17,
     "metadata": {},
     "output_type": "execute_result"
    }
   ],
   "source": [
    "# 정수 인코딩\n",
    "df['대분류'] = pd.factorize(df['대분류'])[0]\n",
    "df.head()"
   ]
  },
  {
   "cell_type": "markdown",
   "metadata": {
    "id": "0DoOsYdqQ4Zl"
   },
   "source": [
    "**3500개(실제 분석용)**"
   ]
  },
  {
   "cell_type": "code",
   "execution_count": 18,
   "metadata": {
    "colab": {
     "base_uri": "https://localhost:8080/"
    },
    "id": "E5XiExtR-cO-",
    "outputId": "73f5da0a-9c6e-482e-9a6d-e9d1d0529311"
   },
   "outputs": [
    {
     "data": {
      "text/plain": [
       "5    3500\n",
       "4    3500\n",
       "3    3500\n",
       "2    3500\n",
       "1    3500\n",
       "0    3500\n",
       "Name: 대분류, dtype: int64"
      ]
     },
     "execution_count": 18,
     "metadata": {},
     "output_type": "execute_result"
    }
   ],
   "source": [
    "# 3500개씩 데이터 추출하기\n",
    "df = df.groupby(\"대분류\", group_keys=False).apply(lambda x: x.sample(n=3500, replace=False, random_state=0)).reset_index(drop=True)\n",
    "df[\"대분류\"].value_counts()"
   ]
  },
  {
   "cell_type": "markdown",
   "metadata": {
    "id": "rP6S3UE-Q-LK"
   },
   "source": [
    "**500개(테스트용)**"
   ]
  },
  {
   "cell_type": "code",
   "execution_count": 155,
   "metadata": {
    "colab": {
     "base_uri": "https://localhost:8080/"
    },
    "id": "BvLcaVFuNNeW",
    "outputId": "21631510-59e3-4f3e-d30b-84e6b4082669"
   },
   "outputs": [
    {
     "data": {
      "text/plain": [
       "5    500\n",
       "3    500\n",
       "1    500\n",
       "4    500\n",
       "2    500\n",
       "0    500\n",
       "Name: 대분류, dtype: int64"
      ]
     },
     "execution_count": 155,
     "metadata": {},
     "output_type": "execute_result"
    }
   ],
   "source": [
    "# 테스트용 500개씩 추출하기\n",
    "df = df.groupby(\"대분류\", group_keys=False).apply(lambda x: x.sample(n=500, replace=False, random_state=0)).reset_index(drop=True)\n",
    "df[\"대분류\"].value_counts()"
   ]
  },
  {
   "cell_type": "code",
   "execution_count": 22,
   "metadata": {},
   "outputs": [
    {
     "name": "stdout",
     "output_type": "stream",
     "text": [
      "학습 데이터 개수 :  (21000, 2)\n"
     ]
    },
    {
     "data": {
      "text/html": [
       "<div>\n",
       "<style scoped>\n",
       "    .dataframe tbody tr th:only-of-type {\n",
       "        vertical-align: middle;\n",
       "    }\n",
       "\n",
       "    .dataframe tbody tr th {\n",
       "        vertical-align: top;\n",
       "    }\n",
       "\n",
       "    .dataframe thead th {\n",
       "        text-align: right;\n",
       "    }\n",
       "</style>\n",
       "<table border=\"1\" class=\"dataframe\">\n",
       "  <thead>\n",
       "    <tr style=\"text-align: right;\">\n",
       "      <th></th>\n",
       "      <th>발화문</th>\n",
       "      <th>대분류</th>\n",
       "    </tr>\n",
       "  </thead>\n",
       "  <tbody>\n",
       "    <tr>\n",
       "      <th>0</th>\n",
       "      <td>화요일날 주문한 건데 왜 취소된 건가요?</td>\n",
       "      <td>0</td>\n",
       "    </tr>\n",
       "    <tr>\n",
       "      <th>1</th>\n",
       "      <td>20일 금요일에 받고 싶은데 출고일은 언제하면 되나요?</td>\n",
       "      <td>0</td>\n",
       "    </tr>\n",
       "    <tr>\n",
       "      <th>2</th>\n",
       "      <td>묶음배송 안 되는 겁니까?</td>\n",
       "      <td>0</td>\n",
       "    </tr>\n",
       "    <tr>\n",
       "      <th>3</th>\n",
       "      <td>내일 받을 수 있는 거죠?</td>\n",
       "      <td>0</td>\n",
       "    </tr>\n",
       "    <tr>\n",
       "      <th>4</th>\n",
       "      <td>오늘 주문하면 언제 받을 수 있을까요?</td>\n",
       "      <td>0</td>\n",
       "    </tr>\n",
       "  </tbody>\n",
       "</table>\n",
       "</div>"
      ],
      "text/plain": [
       "                              발화문  대분류\n",
       "0          화요일날 주문한 건데 왜 취소된 건가요?    0\n",
       "1  20일 금요일에 받고 싶은데 출고일은 언제하면 되나요?    0\n",
       "2                  묶음배송 안 되는 겁니까?    0\n",
       "3                  내일 받을 수 있는 거죠?    0\n",
       "4           오늘 주문하면 언제 받을 수 있을까요?    0"
      ]
     },
     "execution_count": 22,
     "metadata": {},
     "output_type": "execute_result"
    }
   ],
   "source": [
    "# 학습에 활용할 데이터 개수\n",
    "print(\"학습 데이터 개수 : \",df.shape)\n",
    "df.head()"
   ]
  },
  {
   "cell_type": "markdown",
   "metadata": {
    "id": "nLvfOu7o49VU"
   },
   "source": [
    "# 3. 학습 위해 데이터 분할하기(훈련, 검증, 테스트)"
   ]
  },
  {
   "cell_type": "code",
   "execution_count": 23,
   "metadata": {
    "id": "UJ1lRTVtVi_r"
   },
   "outputs": [],
   "source": [
    "# 리스트 형태로 만들어서 훈련을 위한 데이터셋 확보\n",
    "data_list = []\n",
    "for sent, label in zip(df['발화문'], df['대분류'])  :\n",
    "    data = []\n",
    "    data.append(sent)\n",
    "    data.append(str(label))\n",
    "\n",
    "    data_list.append(data)"
   ]
  },
  {
   "cell_type": "code",
   "execution_count": 25,
   "metadata": {
    "id": "2cZ_-HQpVwUl"
   },
   "outputs": [
    {
     "name": "stdout",
     "output_type": "stream",
     "text": [
      "['화요일날 주문한 건데 왜 취소된 건가요?', '0']\n",
      "['주문은 했는데요 섭취는 어케함될까요?', '1']\n",
      "['너무 맛있는데 혹시 밤고구마는 보통 몇 월까지 판매하나요?', '2']\n",
      "['날이 더워서 아이스팩 추가 금액 지급하고 더 추가해서 넣어 주실 수 있나요?', '3']\n",
      "['전화는 왜 안 받나요?', '4']\n",
      "['방금 주문했어요 구매 금액 5만원 이상이면 칼슘 사은품주시는 거죠?', '5']\n"
     ]
    }
   ],
   "source": [
    "# 데이터 확인하기(실전용)\n",
    "print(data_list[0])\n",
    "print(data_list[5000])\n",
    "print(data_list[10000])\n",
    "print(data_list[13000])\n",
    "print(data_list[14000])\n",
    "print(data_list[18000])"
   ]
  },
  {
   "cell_type": "code",
   "execution_count": 26,
   "metadata": {
    "id": "qegz3GM2XCXX"
   },
   "outputs": [],
   "source": [
    "X = df.drop('대분류', axis=1)\n",
    "y = df['대분류']"
   ]
  },
  {
   "cell_type": "code",
   "execution_count": 27,
   "metadata": {
    "id": "kqhLBiOgWMRg"
   },
   "outputs": [],
   "source": [
    "# 훈련, 테스트용으로 데이터 분할하기(대분류의 비율에 맞춰 분할하기)\n",
    "dataset_train, dataset_test = train_test_split(data_list, test_size=0.25, random_state=0, stratify=y)"
   ]
  },
  {
   "cell_type": "code",
   "execution_count": 28,
   "metadata": {
    "colab": {
     "base_uri": "https://localhost:8080/"
    },
    "id": "IreDJIvSMv5X",
    "outputId": "50cd80db-8c3e-4104-b3b2-8ed7f05efc71"
   },
   "outputs": [
    {
     "data": {
      "text/plain": [
       "['토요일까지 해주실 수 없을까요?', '0']"
      ]
     },
     "execution_count": 28,
     "metadata": {},
     "output_type": "execute_result"
    }
   ],
   "source": [
    "dataset_train[0]"
   ]
  },
  {
   "cell_type": "markdown",
   "metadata": {
    "id": "YsXeJ_tXYUAV"
   },
   "source": [
    "# 4. KoBERT 입력 데이터로 만들기"
   ]
  },
  {
   "cell_type": "code",
   "execution_count": 29,
   "metadata": {
    "id": "BFoYqWWzF147"
   },
   "outputs": [],
   "source": [
    "class BERTDataset(Dataset):\n",
    "    def __init__(self, dataset, sent_idx, label_idx, bert_tokenizer, vocab, max_len,\n",
    "                 pad, pair):\n",
    "        transform = nlp.data.BERTSentenceTransform(\n",
    "            bert_tokenizer, max_seq_length=max_len, vocab=vocab, pad=pad, pair=pair)\n",
    "\n",
    "        self.sentences = [transform([i[sent_idx]]) for i in dataset]\n",
    "        self.labels = [np.int32(i[label_idx]) for i in dataset]\n",
    "\n",
    "    def __getitem__(self, i):\n",
    "        return (self.sentences[i] + (self.labels[i], ))\n",
    "\n",
    "    def __len__(self):\n",
    "        return (len(self.labels))"
   ]
  },
  {
   "cell_type": "code",
   "execution_count": 30,
   "metadata": {
    "id": "ui6avsqFY865"
   },
   "outputs": [],
   "source": [
    "# 파라미터 세팅\n",
    "max_len = 64\n",
    "batch_size = 64\n",
    "warmup_ratio = 0.1\n",
    "num_epochs = 20\n",
    "# num_epochs = 5 # 테스트용\n",
    "max_grad_norm = 1\n",
    "log_interval = 200\n",
    "learning_rate =  5e-5"
   ]
  },
  {
   "cell_type": "code",
   "execution_count": 31,
   "metadata": {
    "id": "ziMf1UMUY_jo"
   },
   "outputs": [],
   "source": [
    "tok = tokenizer.tokenize\n",
    "\n",
    "data_train = BERTDataset(dataset_train, 0, 1, tok, vocab, max_len, True, False)\n",
    "data_test = BERTDataset(dataset_test, 0, 1, tok, vocab, max_len, True, False)"
   ]
  },
  {
   "cell_type": "code",
   "execution_count": 32,
   "metadata": {
    "colab": {
     "base_uri": "https://localhost:8080/"
    },
    "id": "ko5NnXBse9o-",
    "outputId": "91c6389b-9361-4f61-d6a2-6d04fdc56f50"
   },
   "outputs": [
    {
     "name": "stdout",
     "output_type": "stream",
     "text": [
      "(array([   2, 4737, 6999, 7128, 4998, 7276, 6738, 2872, 3282, 5591, 6999,\n",
      "        258,    3,    1,    1,    1,    1,    1,    1,    1,    1,    1,\n",
      "          1,    1,    1,    1,    1,    1,    1,    1,    1,    1,    1,\n",
      "          1,    1,    1,    1,    1,    1,    1,    1,    1,    1,    1,\n",
      "          1,    1,    1,    1,    1,    1,    1,    1,    1,    1,    1,\n",
      "          1,    1,    1,    1,    1,    1,    1,    1,    1]), array(13), array([0, 0, 0, 0, 0, 0, 0, 0, 0, 0, 0, 0, 0, 0, 0, 0, 0, 0, 0, 0, 0, 0,\n",
      "       0, 0, 0, 0, 0, 0, 0, 0, 0, 0, 0, 0, 0, 0, 0, 0, 0, 0, 0, 0, 0, 0,\n",
      "       0, 0, 0, 0, 0, 0, 0, 0, 0, 0, 0, 0, 0, 0, 0, 0, 0, 0, 0, 0]), 0)\n"
     ]
    }
   ],
   "source": [
    "print(data_train[0])"
   ]
  },
  {
   "cell_type": "code",
   "execution_count": 33,
   "metadata": {
    "id": "VevH6oauYX8Z"
   },
   "outputs": [],
   "source": [
    "train_dataloader = torch.utils.data.DataLoader(data_train, batch_size=batch_size, num_workers=0) # 로컬에서 돌릴 경우 코어 수에 맞게 num_workers 설정\n",
    "test_dataloader = torch.utils.data.DataLoader(data_test, batch_size=batch_size, num_workers=0) # 로컬에서 돌릴 경우 코어 수에 맞게 num_workers 설정"
   ]
  },
  {
   "cell_type": "markdown",
   "metadata": {
    "id": "Uxj7NHRrYYb6"
   },
   "source": [
    "# 5.KoBERT 학습모델 만들기"
   ]
  },
  {
   "cell_type": "code",
   "execution_count": 34,
   "metadata": {
    "id": "cI4qARsUF124"
   },
   "outputs": [],
   "source": [
    "class BERTClassifier(nn.Module):\n",
    "    def __init__(self,\n",
    "                 bert,\n",
    "                 hidden_size = 768,\n",
    "                 num_classes=6,   # 대분류가 6개\n",
    "                 dr_rate=None,\n",
    "                 params=None):\n",
    "        super(BERTClassifier, self).__init__()\n",
    "        self.bert = bert\n",
    "        self.dr_rate = dr_rate\n",
    "\n",
    "        self.classifier = nn.Linear(hidden_size , num_classes)\n",
    "        if dr_rate:\n",
    "            self.dropout = nn.Dropout(p=dr_rate)\n",
    "\n",
    "    def gen_attention_mask(self, token_ids, valid_length):\n",
    "        attention_mask = torch.zeros_like(token_ids)\n",
    "        for i, v in enumerate(valid_length):\n",
    "            attention_mask[i][:v] = 1\n",
    "        return attention_mask.float()\n",
    "\n",
    "    def forward(self, token_ids, valid_length, segment_ids):\n",
    "        attention_mask = self.gen_attention_mask(token_ids, valid_length)\n",
    "\n",
    "        _, pooler = self.bert(input_ids = token_ids, token_type_ids = segment_ids.long(), attention_mask = attention_mask.float().to(token_ids.device))\n",
    "        if self.dr_rate:\n",
    "            out = self.dropout(pooler)\n",
    "        return self.classifier(out)"
   ]
  },
  {
   "cell_type": "code",
   "execution_count": 35,
   "metadata": {
    "colab": {
     "base_uri": "https://localhost:8080/"
    },
    "id": "4oHPpbFmYof0",
    "outputId": "648cd836-a159-4931-bbd6-76297f22854f"
   },
   "outputs": [
    {
     "data": {
      "text/plain": [
       "<torch.utils.data.dataloader.DataLoader at 0x207de0c0358>"
      ]
     },
     "execution_count": 35,
     "metadata": {},
     "output_type": "execute_result"
    }
   ],
   "source": [
    "#BERT 모델 불러오기\n",
    "model = BERTClassifier(bertmodel,  dr_rate=0.5)\n",
    "\n",
    "#optimizer와 schedule 설정\n",
    "no_decay = ['bias', 'LayerNorm.weight']\n",
    "optimizer_grouped_parameters = [\n",
    "    {'params': [p for n, p in model.named_parameters() if not any(nd in n for nd in no_decay)], 'weight_decay': 0.01},\n",
    "    {'params': [p for n, p in model.named_parameters() if any(nd in n for nd in no_decay)], 'weight_decay': 0.0}\n",
    "]\n",
    "\n",
    "optimizer = AdamW(optimizer_grouped_parameters, lr=learning_rate)\n",
    "loss_fn = nn.CrossEntropyLoss()\n",
    "\n",
    "t_total = len(train_dataloader) * num_epochs\n",
    "warmup_step = int(t_total * warmup_ratio)\n",
    "\n",
    "scheduler = get_cosine_schedule_with_warmup(optimizer, num_warmup_steps=warmup_step, num_training_steps=t_total)\n",
    "\n",
    "#정확도 측정을 위한 함수 정의\n",
    "def calc_accuracy(X,Y):\n",
    "    max_vals, max_indices = torch.max(X, 1)\n",
    "    train_acc = (max_indices == Y).sum().data.cpu().numpy()/max_indices.size()[0]\n",
    "    return train_acc\n",
    "\n",
    "train_dataloader"
   ]
  },
  {
   "cell_type": "markdown",
   "metadata": {
    "id": "q2QeHQs4YdGo"
   },
   "source": [
    "# 6.KoBERT 모델 학습시키기"
   ]
  },
  {
   "cell_type": "code",
   "execution_count": 36,
   "metadata": {
    "colab": {
     "base_uri": "https://localhost:8080/"
    },
    "id": "dFx3feA7YmXX",
    "outputId": "ea098e2a-5989-4597-f05a-11f96f260338"
   },
   "outputs": [
    {
     "name": "stderr",
     "output_type": "stream",
     "text": [
      "  0%|▎                                                                                 | 1/247 [00:02<12:04,  2.94s/it]"
     ]
    },
    {
     "name": "stdout",
     "output_type": "stream",
     "text": [
      "epoch 1 batch id 1 loss 1.9038487672805786 train acc 0.109375\n"
     ]
    },
    {
     "name": "stderr",
     "output_type": "stream",
     "text": [
      " 81%|█████████████████████████████████████████████████████████████████               | 201/247 [09:59<02:17,  2.98s/it]"
     ]
    },
    {
     "name": "stdout",
     "output_type": "stream",
     "text": [
      "epoch 1 batch id 201 loss 0.7646499276161194 train acc 0.40632773631840796\n"
     ]
    },
    {
     "name": "stderr",
     "output_type": "stream",
     "text": [
      "100%|████████████████████████████████████████████████████████████████████████████████| 247/247 [12:14<00:00,  2.97s/it]\n"
     ]
    },
    {
     "name": "stdout",
     "output_type": "stream",
     "text": [
      "epoch 1 train acc 0.4757928475033738\n",
      "\n"
     ]
    },
    {
     "name": "stderr",
     "output_type": "stream",
     "text": [
      "100%|██████████████████████████████████████████████████████████████████████████████████| 83/83 [01:20<00:00,  1.03it/s]\n"
     ]
    },
    {
     "name": "stdout",
     "output_type": "stream",
     "text": [
      "epoch 1 test acc 0.795933734939759\n",
      "1번째 epoch에서 학습이 성공적으로 진행됐습니다.\n",
      "\n"
     ]
    },
    {
     "name": "stderr",
     "output_type": "stream",
     "text": [
      "  0%|▎                                                                                 | 1/247 [00:03<12:27,  3.04s/it]"
     ]
    },
    {
     "name": "stdout",
     "output_type": "stream",
     "text": [
      "epoch 2 batch id 1 loss 0.6911184787750244 train acc 0.828125\n"
     ]
    },
    {
     "name": "stderr",
     "output_type": "stream",
     "text": [
      " 81%|█████████████████████████████████████████████████████████████████               | 201/247 [10:03<02:18,  3.01s/it]"
     ]
    },
    {
     "name": "stdout",
     "output_type": "stream",
     "text": [
      "epoch 2 batch id 201 loss 0.42640388011932373 train acc 0.7993625621890548\n"
     ]
    },
    {
     "name": "stderr",
     "output_type": "stream",
     "text": [
      "100%|████████████████████████████████████████████████████████████████████████████████| 247/247 [12:20<00:00,  3.00s/it]\n"
     ]
    },
    {
     "name": "stdout",
     "output_type": "stream",
     "text": [
      "epoch 2 train acc 0.805668016194332\n",
      "\n"
     ]
    },
    {
     "name": "stderr",
     "output_type": "stream",
     "text": [
      "100%|██████████████████████████████████████████████████████████████████████████████████| 83/83 [01:20<00:00,  1.03it/s]\n"
     ]
    },
    {
     "name": "stdout",
     "output_type": "stream",
     "text": [
      "epoch 2 test acc 0.811558734939759\n",
      "2번째 epoch에서 학습이 성공적으로 진행됐습니다.\n",
      "\n"
     ]
    },
    {
     "name": "stderr",
     "output_type": "stream",
     "text": [
      "  0%|▎                                                                                 | 1/247 [00:03<12:32,  3.06s/it]"
     ]
    },
    {
     "name": "stdout",
     "output_type": "stream",
     "text": [
      "epoch 3 batch id 1 loss 0.47919371724128723 train acc 0.875\n"
     ]
    },
    {
     "name": "stderr",
     "output_type": "stream",
     "text": [
      " 81%|█████████████████████████████████████████████████████████████████               | 201/247 [10:04<02:18,  3.02s/it]"
     ]
    },
    {
     "name": "stdout",
     "output_type": "stream",
     "text": [
      "epoch 3 batch id 201 loss 0.4344639778137207 train acc 0.8440609452736318\n"
     ]
    },
    {
     "name": "stderr",
     "output_type": "stream",
     "text": [
      "100%|████████████████████████████████████████████████████████████████████████████████| 247/247 [12:20<00:00,  3.00s/it]\n"
     ]
    },
    {
     "name": "stdout",
     "output_type": "stream",
     "text": [
      "epoch 3 train acc 0.8484311740890689\n",
      "\n"
     ]
    },
    {
     "name": "stderr",
     "output_type": "stream",
     "text": [
      "100%|██████████████████████████████████████████████████████████████████████████████████| 83/83 [01:21<00:00,  1.02it/s]\n"
     ]
    },
    {
     "name": "stdout",
     "output_type": "stream",
     "text": [
      "epoch 3 test acc 0.8217243975903614\n",
      "3번째 epoch에서 학습이 성공적으로 진행됐습니다.\n",
      "\n"
     ]
    },
    {
     "name": "stderr",
     "output_type": "stream",
     "text": [
      "  0%|▎                                                                                 | 1/247 [00:03<12:33,  3.06s/it]"
     ]
    },
    {
     "name": "stdout",
     "output_type": "stream",
     "text": [
      "epoch 4 batch id 1 loss 0.44476449489593506 train acc 0.859375\n"
     ]
    },
    {
     "name": "stderr",
     "output_type": "stream",
     "text": [
      " 81%|█████████████████████████████████████████████████████████████████               | 201/247 [10:04<02:19,  3.03s/it]"
     ]
    },
    {
     "name": "stdout",
     "output_type": "stream",
     "text": [
      "epoch 4 batch id 201 loss 0.32759377360343933 train acc 0.8810634328358209\n"
     ]
    },
    {
     "name": "stderr",
     "output_type": "stream",
     "text": [
      "100%|████████████████████████████████████████████████████████████████████████████████| 247/247 [12:21<00:00,  3.00s/it]\n"
     ]
    },
    {
     "name": "stdout",
     "output_type": "stream",
     "text": [
      "epoch 4 train acc 0.8839827935222672\n",
      "\n"
     ]
    },
    {
     "name": "stderr",
     "output_type": "stream",
     "text": [
      "100%|██████████████████████████████████████████████████████████████████████████████████| 83/83 [01:21<00:00,  1.02it/s]\n"
     ]
    },
    {
     "name": "stdout",
     "output_type": "stream",
     "text": [
      "epoch 4 test acc 0.8138177710843374\n",
      "4번째 epoch에서 정확도 개선이 이뤄지지 않아 다시 한번 학습을 실시합니다.\n",
      "\n"
     ]
    },
    {
     "name": "stderr",
     "output_type": "stream",
     "text": [
      "  0%|▎                                                                                 | 1/247 [00:03<12:32,  3.06s/it]"
     ]
    },
    {
     "name": "stdout",
     "output_type": "stream",
     "text": [
      "epoch 5 batch id 1 loss 0.33759063482284546 train acc 0.921875\n"
     ]
    },
    {
     "name": "stderr",
     "output_type": "stream",
     "text": [
      " 81%|█████████████████████████████████████████████████████████████████               | 201/247 [10:04<02:18,  3.01s/it]"
     ]
    },
    {
     "name": "stdout",
     "output_type": "stream",
     "text": [
      "epoch 5 batch id 201 loss 0.26126182079315186 train acc 0.9076492537313433\n"
     ]
    },
    {
     "name": "stderr",
     "output_type": "stream",
     "text": [
      "100%|████████████████████████████████████████████████████████████████████████████████| 247/247 [12:20<00:00,  3.00s/it]\n"
     ]
    },
    {
     "name": "stdout",
     "output_type": "stream",
     "text": [
      "epoch 5 train acc 0.9089701417004049\n",
      "\n"
     ]
    },
    {
     "name": "stderr",
     "output_type": "stream",
     "text": [
      "100%|██████████████████████████████████████████████████████████████████████████████████| 83/83 [01:20<00:00,  1.03it/s]"
     ]
    },
    {
     "name": "stdout",
     "output_type": "stream",
     "text": [
      "epoch 5 test acc 0.8055346385542169\n",
      "5번째 epoch에서 정확도 개선이 이뤄지지 않아 다시 한번 학습을 실시합니다.\n",
      "\n",
      "5번째 epoch에서 더 이상 테스트 정확도가 개선되지 않아 학습을 중단합니다.\n",
      "\n"
     ]
    },
    {
     "name": "stderr",
     "output_type": "stream",
     "text": [
      "\n"
     ]
    }
   ],
   "source": [
    "train_acc_history = []\n",
    "test_acc_history = []\n",
    "train_loss_history = []\n",
    "best_test_acc = 0.0\n",
    "patience = 2  # 향상을 기다릴 epoch 수\n",
    "\n",
    "for e in range(num_epochs):\n",
    "    train_acc = 0.0\n",
    "    test_acc = 0.0\n",
    "    train_loss = 0.0\n",
    "    model.train()\n",
    "    for batch_id, (token_ids, valid_length, segment_ids, label) in enumerate(tqdm(train_dataloader)):\n",
    "        optimizer.zero_grad()\n",
    "        token_ids = token_ids.long()\n",
    "        segment_ids = segment_ids.long()\n",
    "        valid_length= valid_length\n",
    "        label = label.long()\n",
    "        out = model(token_ids, valid_length, segment_ids)\n",
    "        loss = loss_fn(out, label)\n",
    "        loss.backward()\n",
    "        torch.nn.utils.clip_grad_norm_(model.parameters(), max_grad_norm)\n",
    "        optimizer.step()\n",
    "        scheduler.step()\n",
    "        train_acc += calc_accuracy(out, label)\n",
    "        train_loss += loss.item()\n",
    "        if batch_id % log_interval == 0:\n",
    "            print(\"epoch {} batch id {} loss {} train acc {}\".format(e+1, batch_id+1, loss.data.cpu().numpy(), train_acc / (batch_id+1)))\n",
    "    print(\"epoch {} train acc {}\\n\".format(e+1, train_acc / (batch_id+1)))\n",
    "    train_acc_history.append(train_acc / (batch_id + 1))\n",
    "\n",
    "    model.eval()\n",
    "    for batch_id, (token_ids, valid_length, segment_ids, label) in enumerate(tqdm(test_dataloader)):\n",
    "        token_ids = token_ids.long()\n",
    "        segment_ids = segment_ids.long()\n",
    "        valid_length= valid_length\n",
    "        label = label.long()\n",
    "        out = model(token_ids, valid_length, segment_ids)\n",
    "        test_acc += calc_accuracy(out, label)\n",
    "    print(\"epoch {} test acc {}\".format(e+1, test_acc / (batch_id+1)))\n",
    "    test_acc_value = test_acc / (batch_id + 1)\n",
    "    test_acc_history.append(test_acc_value)\n",
    "    train_loss_history.append(train_loss / (batch_id + 1))\n",
    "\n",
    "    # 과적합 위험 방지 위해 조기 종료 기능 추가\n",
    "    if test_acc > best_test_acc :\n",
    "      best_test_acc = test_acc\n",
    "      patience_counter = 0\n",
    "      print(f\"{e+1}번째 epoch에서 학습이 성공적으로 진행됐습니다.\\n\")\n",
    "    else :\n",
    "      patience_counter += 1\n",
    "      print(f\"{e+1}번째 epoch에서 정확도 개선이 이뤄지지 않아 다시 한번 학습을 실시합니다.\\n\")\n",
    "\n",
    "    if patience_counter >= patience :\n",
    "        print(f\"{e+1}번째 epoch에서 더 이상 테스트 정확도가 개선되지 않아 학습을 중단합니다.\\n\")\n",
    "        break"
   ]
  },
  {
   "cell_type": "markdown",
   "metadata": {
    "id": "3hNrQe2jT9ZB"
   },
   "source": [
    "## 6-1-1. Epoch별 정확도 차트"
   ]
  },
  {
   "cell_type": "code",
   "execution_count": 37,
   "metadata": {
    "id": "3fpZLEdpSSl0"
   },
   "outputs": [
    {
     "data": {
      "image/png": "[encoded data removed]",
      "text/plain": [
       "<Figure size 1000x600 with 1 Axes>"
      ]
     },
     "metadata": {},
     "output_type": "display_data"
    }
   ],
   "source": [
    "plt.figure(figsize=(10, 6))\n",
    "plt.plot(range(1, len(train_acc_history) + 1), train_acc_history, label='Train Accuracy')\n",
    "plt.plot(range(1, len(test_acc_history) + 1), test_acc_history, label='Test Accuracy')\n",
    "plt.title('Train and Test Accuracy Over Epochs')\n",
    "plt.xlabel('Epoch')\n",
    "plt.ylabel('Accuracy')\n",
    "plt.legend()\n",
    "plt.show()"
   ]
  },
  {
   "cell_type": "markdown",
   "metadata": {},
   "source": [
    "## 6-1-2. Epoch별 손실 차트"
   ]
  },
  {
   "cell_type": "code",
   "execution_count": 38,
   "metadata": {},
   "outputs": [
    {
     "data": {
      "image/png": "[encoded data removed]",
      "text/plain": [
       "<Figure size 1200x600 with 1 Axes>"
      ]
     },
     "metadata": {},
     "output_type": "display_data"
    }
   ],
   "source": [
    "plt.figure(figsize=(12, 6))\n",
    "plt.plot(range(1, len(train_loss_history) + 1), train_loss_history, label='Train Loss', color='green')\n",
    "plt.xlabel('Epoch')\n",
    "plt.ylabel('Loss')\n",
    "plt.title('Train Loss Over Epochs')\n",
    "plt.legend()\n",
    "plt.show()"
   ]
  },
  {
   "cell_type": "markdown",
   "metadata": {
    "id": "FOk3NZtiUCUi"
   },
   "source": [
    "## 6-2. 모델 저장"
   ]
  },
  {
   "cell_type": "code",
   "execution_count": 43,
   "metadata": {},
   "outputs": [],
   "source": [
    "# 디렉토리 생성\n",
    "directory = \"D:\\kobert\\model\"\n",
    "os.makedirs(directory, exist_ok=True)\n",
    "\n",
    "# 모델 저장\n",
    "model_save_name = 'trained_kobert_model.pt'\n",
    "path = os.path.join(directory, model_save_name)\n",
    "torch.save(model.state_dict(), path)"
   ]
  },
  {
   "cell_type": "code",
   "execution_count": 44,
   "metadata": {
    "colab": {
     "base_uri": "https://localhost:8080/"
    },
    "id": "EzBSNj_cjCju",
    "outputId": "758942d3-538e-403f-ebad-889d1336f4a6"
   },
   "outputs": [
    {
     "data": {
      "text/plain": [
       "<All keys matched successfully>"
      ]
     },
     "execution_count": 44,
     "metadata": {},
     "output_type": "execute_result"
    }
   ],
   "source": [
    "# 훈련이 완료된 모델 불러오기\n",
    "directory = \"D:\\kobert\\model\"\n",
    "model_save_name = 'trained_kobert_model.pt'\n",
    "path = os.path.join(directory, model_save_name)\n",
    "\n",
    "model = BERTClassifier(bertmodel, dr_rate=0.5)\n",
    "model.load_state_dict(torch.load(path))"
   ]
  },
  {
   "cell_type": "markdown",
   "metadata": {
    "id": "AqDUemvIYc4T"
   },
   "source": [
    "# 7.새로운 문장 테스트"
   ]
  },
  {
   "cell_type": "code",
   "execution_count": 45,
   "metadata": {
    "id": "38-yIEB_gWv9"
   },
   "outputs": [],
   "source": [
    "def predict(predict_sentence):\n",
    "\n",
    "    data = [predict_sentence, '0']\n",
    "    dataset_another = [data]\n",
    "\n",
    "    another_test = BERTDataset(dataset_another, 0, 1, tok, vocab, max_len, True, False)\n",
    "    test_dataloader = torch.utils.data.DataLoader(another_test, batch_size=batch_size, num_workers=0) # 로컬에서 돌릴 경우 코어 수에 맞게 num_workers 설정\n",
    "\n",
    "    model.eval()\n",
    "\n",
    "    for batch_id, (token_ids, valid_length, segment_ids, label) in enumerate(test_dataloader):\n",
    "        token_ids = token_ids.long()\n",
    "        segment_ids = segment_ids.long()\n",
    "\n",
    "        valid_length= valid_length\n",
    "        label = label.long()\n",
    "\n",
    "        out = model(token_ids, valid_length, segment_ids)\n",
    "\n",
    "\n",
    "        test_eval=[]\n",
    "        for i in out:\n",
    "            logits=i\n",
    "            logits = logits.detach().cpu().numpy()\n",
    "\n",
    "            if np.argmax(logits) == 0:\n",
    "                test_eval.append(\"'배송'\")\n",
    "            elif np.argmax(logits) == 1:\n",
    "                test_eval.append(\"'제품'\")\n",
    "            elif np.argmax(logits) == 2:\n",
    "                test_eval.append(\"'결제'\")\n",
    "            elif np.argmax(logits) == 3:\n",
    "                test_eval.append(\"'포장'\")\n",
    "            elif np.argmax(logits) == 4:\n",
    "                test_eval.append(\"'기타'\")\n",
    "            elif np.argmax(logits) == 5:\n",
    "                test_eval.append(\"'행사'\")\n",
    "\n",
    "        print(\">> 입력하신 발화문은 \" + test_eval[0] + \" 대분류에 해당합니다.\")"
   ]
  },
  {
   "cell_type": "code",
   "execution_count": 46,
   "metadata": {
    "colab": {
     "base_uri": "https://localhost:8080/"
    },
    "id": "L6_LGv-Ph9Ra",
    "outputId": "4d8412a6-2864-456d-be8e-d66a08987484"
   },
   "outputs": [
    {
     "name": "stdout",
     "output_type": "stream",
     "text": [
      "발화문을 입력하시오. : 배송이 느려요\n",
      ">> 입력하신 발화문은 '배송' 대분류에 해당합니다.\n",
      "\n",
      "\n",
      "발화문을 입력하시오. : 음식이 상한 거 같아요\n",
      ">> 입력하신 발화문은 '제품' 대분류에 해당합니다.\n",
      "\n",
      "\n",
      "발화문을 입력하시오. : 아이스팩도 넣어주실래요?\n",
      ">> 입력하신 발화문은 '포장' 대분류에 해당합니다.\n",
      "\n",
      "\n",
      "발화문을 입력하시오. : 지금 진행중인 행사는 세일 품목 한정인가요?\n",
      ">> 입력하신 발화문은 '행사' 대분류에 해당합니다.\n",
      "\n",
      "\n",
      "발화문을 입력하시오. : 영수증을 미발급 받았는데 따로 발급이 가능한가요?\n",
      ">> 입력하신 발화문은 '결제' 대분류에 해당합니다.\n",
      "\n",
      "\n",
      "발화문을 입력하시오. : 오배송으로 인한 교환은 언제 진행되는거죠?\n",
      ">> 입력하신 발화문은 '기타' 대분류에 해당합니다.\n",
      "\n",
      "\n",
      "발화문을 입력하시오. : 종료\n"
     ]
    }
   ],
   "source": [
    "#질문 무한반복 / 종료'라고 입력시 종료\n",
    "end = 1\n",
    "while end == 1 :\n",
    "    sentence = input(\"발화문을 입력하시오. : \")\n",
    "    if sentence == \"종료\" :\n",
    "        break\n",
    "    predict(sentence)\n",
    "    print(\"\\n\")"
   ]
  }
 ],
 "metadata": {
  "colab": {
   "collapsed_sections": [
    "lKMPDvUVv8eE"
   ],
   "provenance": []
  },
  "kernelspec": {
   "display_name": "Python 3 (ipykernel)",
   "language": "python",
   "name": "python3"
  },
  "language_info": {
   "codemirror_mode": {
    "name": "ipython",
    "version": 3
   },
   "file_extension": ".py",
   "mimetype": "text/x-python",
   "name": "python",
   "nbconvert_exporter": "python",
   "pygments_lexer": "ipython3",
   "version": "3.7.0"
  }
 },
 "nbformat": 4,
 "nbformat_minor": 4
}
